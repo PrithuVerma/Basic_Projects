{
  "nbformat": 4,
  "nbformat_minor": 0,
  "metadata": {
    "colab": {
      "provenance": [],
      "gpuType": "T4",
      "authorship_tag": "ABX9TyOgRJCNKC3g0WvaJqgtLS17",
      "include_colab_link": true
    },
    "kernelspec": {
      "name": "python3",
      "display_name": "Python 3"
    },
    "language_info": {
      "name": "python"
    }
  },
  "cells": [
    {
      "cell_type": "markdown",
      "metadata": {
        "id": "view-in-github",
        "colab_type": "text"
      },
      "source": [
        "<a href=\"https://colab.research.google.com/github/PrithuVerma/Basic_Projects/blob/main/Tensors_basic.ipynb\" target=\"_parent\"><img src=\"https://colab.research.google.com/assets/colab-badge.svg\" alt=\"Open In Colab\"/></a>"
      ]
    },
    {
      "cell_type": "code",
      "execution_count": null,
      "metadata": {
        "colab": {
          "base_uri": "https://localhost:8080/"
        },
        "id": "Qi0SfLAi0DN2",
        "outputId": "a691b637-fa03-45e1-f6aa-9f32c48a27be"
      },
      "outputs": [
        {
          "output_type": "stream",
          "name": "stdout",
          "text": [
            "2.6.0+cu124\n"
          ]
        }
      ],
      "source": [
        "import torch\n",
        "print(torch.__version__)"
      ]
    },
    {
      "cell_type": "code",
      "source": [
        "if torch.cuda.is_available():\n",
        "    print('GPU is available')\n",
        "    print(torch.cuda.get_device_name())\n",
        "else:\n",
        "    print('No GPU in sight, using CPU')"
      ],
      "metadata": {
        "colab": {
          "base_uri": "https://localhost:8080/"
        },
        "id": "ZJl_e1bB0sfz",
        "outputId": "79c8fbd6-218f-4545-a1bc-68e2e36eacf8"
      },
      "execution_count": null,
      "outputs": [
        {
          "output_type": "stream",
          "name": "stdout",
          "text": [
            "No GPU in sight, using CPU\n"
          ]
        }
      ]
    },
    {
      "cell_type": "markdown",
      "source": [
        "# **Creating** **Tensors**"
      ],
      "metadata": {
        "id": "NWqROk1y1ujZ"
      }
    },
    {
      "cell_type": "code",
      "source": [
        "a = torch.empty(3,3)\n",
        "print(a)"
      ],
      "metadata": {
        "colab": {
          "base_uri": "https://localhost:8080/"
        },
        "id": "8NFD2spw10Si",
        "outputId": "d16d77a8-9e3c-4db7-cc6c-8118c4bb7c90"
      },
      "execution_count": null,
      "outputs": [
        {
          "output_type": "stream",
          "name": "stdout",
          "text": [
            "tensor([[ 1.0501e-37,  4.4519e-41,  1.0501e-37],\n",
            "        [ 4.4519e-41,  1.5080e-38,  0.0000e+00],\n",
            "        [-1.8388e+30,  4.4516e-41,  1.3595e-38]])\n"
          ]
        }
      ]
    },
    {
      "cell_type": "code",
      "source": [
        "type(a)"
      ],
      "metadata": {
        "colab": {
          "base_uri": "https://localhost:8080/"
        },
        "id": "OvfAdXVa2YkY",
        "outputId": "d166753c-9870-49c7-9176-d6e62808d61f"
      },
      "execution_count": null,
      "outputs": [
        {
          "output_type": "execute_result",
          "data": {
            "text/plain": [
              "torch.Tensor"
            ]
          },
          "metadata": {},
          "execution_count": 7
        }
      ]
    },
    {
      "cell_type": "code",
      "source": [
        "torch.zeros(2,3)"
      ],
      "metadata": {
        "colab": {
          "base_uri": "https://localhost:8080/"
        },
        "id": "DP6p7V7x2iq9",
        "outputId": "cbc81ca2-2cd4-4de5-a806-e7d861bb30d0"
      },
      "execution_count": null,
      "outputs": [
        {
          "output_type": "execute_result",
          "data": {
            "text/plain": [
              "tensor([[0., 0., 0.],\n",
              "        [0., 0., 0.]])"
            ]
          },
          "metadata": {},
          "execution_count": 9
        }
      ]
    },
    {
      "cell_type": "code",
      "source": [
        "torch.ones(4,4)"
      ],
      "metadata": {
        "colab": {
          "base_uri": "https://localhost:8080/"
        },
        "id": "-ffe8h3T2sD0",
        "outputId": "1c052a9a-2e2c-4e04-daaa-5cd8e38a6683"
      },
      "execution_count": null,
      "outputs": [
        {
          "output_type": "execute_result",
          "data": {
            "text/plain": [
              "tensor([[1., 1., 1., 1.],\n",
              "        [1., 1., 1., 1.],\n",
              "        [1., 1., 1., 1.],\n",
              "        [1., 1., 1., 1.]])"
            ]
          },
          "metadata": {},
          "execution_count": 10
        }
      ]
    },
    {
      "cell_type": "code",
      "source": [
        "torch.rand(2,3) #Random values between 0-1"
      ],
      "metadata": {
        "colab": {
          "base_uri": "https://localhost:8080/"
        },
        "id": "M4oxGBJr2wxk",
        "outputId": "fdec00bd-f290-4e3b-a614-ebfeb6889aa6"
      },
      "execution_count": null,
      "outputs": [
        {
          "output_type": "execute_result",
          "data": {
            "text/plain": [
              "tensor([[0.3129, 0.2784, 0.9400],\n",
              "        [0.1325, 0.2221, 0.2345]])"
            ]
          },
          "metadata": {},
          "execution_count": 12
        }
      ]
    },
    {
      "cell_type": "code",
      "source": [
        "torch.manual_seed(50)\n",
        "torch.rand(2,3)"
      ],
      "metadata": {
        "colab": {
          "base_uri": "https://localhost:8080/"
        },
        "id": "fH_1I7-I21Sg",
        "outputId": "0a0d4bfc-52da-426a-b9a7-c144488094cb"
      },
      "execution_count": null,
      "outputs": [
        {
          "output_type": "execute_result",
          "data": {
            "text/plain": [
              "tensor([[0.6180, 0.0687, 0.3893],\n",
              "        [0.0404, 0.4013, 0.1442]])"
            ]
          },
          "metadata": {},
          "execution_count": 13
        }
      ]
    },
    {
      "cell_type": "code",
      "source": [
        "torch.manual_seed(50) #manual_seed is used to counter randomness of torch.rand function\n",
        "torch.rand(2,3)"
      ],
      "metadata": {
        "colab": {
          "base_uri": "https://localhost:8080/"
        },
        "id": "vO54tvEd3YXE",
        "outputId": "ff2f113d-0e63-4648-f9c4-a6b02cc83e7f"
      },
      "execution_count": null,
      "outputs": [
        {
          "output_type": "execute_result",
          "data": {
            "text/plain": [
              "tensor([[0.6180, 0.0687, 0.3893],\n",
              "        [0.0404, 0.4013, 0.1442]])"
            ]
          },
          "metadata": {},
          "execution_count": 14
        }
      ]
    },
    {
      "cell_type": "code",
      "source": [
        "torch.tensor([[4,5,6],[1,2,3]])"
      ],
      "metadata": {
        "colab": {
          "base_uri": "https://localhost:8080/"
        },
        "id": "gQKDZHeK3aH4",
        "outputId": "de7dde6c-c7f7-40e2-b0bd-6088f5aa48a7"
      },
      "execution_count": null,
      "outputs": [
        {
          "output_type": "execute_result",
          "data": {
            "text/plain": [
              "tensor([[4, 5, 6],\n",
              "        [1, 2, 3]])"
            ]
          },
          "metadata": {},
          "execution_count": 17
        }
      ]
    },
    {
      "cell_type": "code",
      "source": [
        "print('Using arange : ',torch.arange(0,10))\n",
        "print('Using Linspace : ',torch.linspace(0,10,5)) #returns an evenly spaced  tensor from 0-10 of space 5\n",
        "print('Using Eye (Indetity Matrix) : ',torch.eye(4))\n",
        "print('Using Full : ',torch.full((3,3),4)) # returns tensor of 3X3 with every value 4"
      ],
      "metadata": {
        "colab": {
          "base_uri": "https://localhost:8080/"
        },
        "id": "mgUAUDc936JI",
        "outputId": "7c922e9c-17d5-4980-8cdc-697ccec0f922"
      },
      "execution_count": null,
      "outputs": [
        {
          "output_type": "stream",
          "name": "stdout",
          "text": [
            "Using arange :  tensor([0, 1, 2, 3, 4, 5, 6, 7, 8, 9])\n",
            "Using Linspace :  tensor([ 0.0000,  2.5000,  5.0000,  7.5000, 10.0000])\n",
            "Using Eye (Indetity Matrix) :  tensor([[1., 0., 0., 0.],\n",
            "        [0., 1., 0., 0.],\n",
            "        [0., 0., 1., 0.],\n",
            "        [0., 0., 0., 1.]])\n",
            "Using Full :  tensor([[4, 4, 4],\n",
            "        [4, 4, 4],\n",
            "        [4, 4, 4]])\n"
          ]
        }
      ]
    },
    {
      "cell_type": "markdown",
      "source": [
        "# **Tensor Shape**"
      ],
      "metadata": {
        "id": "KV-Ixxfa5jR_"
      }
    },
    {
      "cell_type": "code",
      "source": [
        "x = torch.tensor([[1,2,3],[4,5,6]])\n",
        "x.shape"
      ],
      "metadata": {
        "colab": {
          "base_uri": "https://localhost:8080/"
        },
        "id": "1Xy34nRu5reS",
        "outputId": "447a7cc7-76ef-4645-ab0e-75d16eec45e1"
      },
      "execution_count": null,
      "outputs": [
        {
          "output_type": "execute_result",
          "data": {
            "text/plain": [
              "torch.Size([2, 3])"
            ]
          },
          "metadata": {},
          "execution_count": 4
        }
      ]
    },
    {
      "cell_type": "code",
      "source": [
        "torch.empty_like(x) # creates a tensor of same size/shape but of different values"
      ],
      "metadata": {
        "colab": {
          "base_uri": "https://localhost:8080/"
        },
        "id": "gGu4UpEq92gc",
        "outputId": "2e709ca1-1416-442f-f691-3dcbce3dcbee"
      },
      "execution_count": null,
      "outputs": [
        {
          "output_type": "execute_result",
          "data": {
            "text/plain": [
              "tensor([[    137989264469392,     137989264469392,                   0],\n",
              "        [                  0,     137984414318592, 7307199746910528123]])"
            ]
          },
          "metadata": {},
          "execution_count": 10
        }
      ]
    },
    {
      "cell_type": "code",
      "source": [
        "print(torch.zeros_like(x))\n",
        "print(torch.ones_like(x))"
      ],
      "metadata": {
        "colab": {
          "base_uri": "https://localhost:8080/"
        },
        "id": "DttpEcLN-x7A",
        "outputId": "d1af757f-0f88-4ebf-a500-50b498d40997"
      },
      "execution_count": null,
      "outputs": [
        {
          "output_type": "stream",
          "name": "stdout",
          "text": [
            "tensor([[0, 0, 0],\n",
            "        [0, 0, 0]])\n",
            "tensor([[1, 1, 1],\n",
            "        [1, 1, 1]])\n"
          ]
        }
      ]
    },
    {
      "cell_type": "code",
      "source": [
        "torch.rand_like(x) # This will throw an error becuase _like() returns integer value but rand() gives float values between 0-1"
      ],
      "metadata": {
        "colab": {
          "base_uri": "https://localhost:8080/",
          "height": 144
        },
        "id": "TDSoeCzX--5g",
        "outputId": "d68f3992-3590-4ba4-9715-49c901fc4e8f"
      },
      "execution_count": null,
      "outputs": [
        {
          "output_type": "error",
          "ename": "RuntimeError",
          "evalue": "\"check_uniform_bounds\" not implemented for 'Long'",
          "traceback": [
            "\u001b[0;31m---------------------------------------------------------------------------\u001b[0m",
            "\u001b[0;31mRuntimeError\u001b[0m                              Traceback (most recent call last)",
            "\u001b[0;32m<ipython-input-14-bdf3ea7c18c5>\u001b[0m in \u001b[0;36m<cell line: 0>\u001b[0;34m()\u001b[0m\n\u001b[0;32m----> 1\u001b[0;31m \u001b[0mtorch\u001b[0m\u001b[0;34m.\u001b[0m\u001b[0mrand_like\u001b[0m\u001b[0;34m(\u001b[0m\u001b[0mx\u001b[0m\u001b[0;34m)\u001b[0m \u001b[0;31m# This will throw an error becuase _like() returns integer value but rand() gives float values between 0-1\u001b[0m\u001b[0;34m\u001b[0m\u001b[0;34m\u001b[0m\u001b[0m\n\u001b[0m",
            "\u001b[0;31mRuntimeError\u001b[0m: \"check_uniform_bounds\" not implemented for 'Long'"
          ]
        }
      ]
    },
    {
      "cell_type": "markdown",
      "source": [
        "# **Tensor Datatypes**"
      ],
      "metadata": {
        "id": "zwvTzAFRHpIG"
      }
    },
    {
      "cell_type": "code",
      "source": [
        "x.dtype"
      ],
      "metadata": {
        "colab": {
          "base_uri": "https://localhost:8080/"
        },
        "id": "Q98SRLxCHs2f",
        "outputId": "af6877c2-4363-4b6e-ac4b-3119772d8fca"
      },
      "execution_count": null,
      "outputs": [
        {
          "output_type": "execute_result",
          "data": {
            "text/plain": [
              "torch.int64"
            ]
          },
          "metadata": {},
          "execution_count": 5
        }
      ]
    },
    {
      "cell_type": "code",
      "source": [
        "torch.tensor([1.0,2.0,3.0,4.0],dtype=torch.int32)"
      ],
      "metadata": {
        "colab": {
          "base_uri": "https://localhost:8080/"
        },
        "id": "-6wVta5fH_HJ",
        "outputId": "2264e32c-d202-4195-d99d-6d1f24e2a0ff"
      },
      "execution_count": null,
      "outputs": [
        {
          "output_type": "execute_result",
          "data": {
            "text/plain": [
              "tensor([1, 2, 3, 4], dtype=torch.int32)"
            ]
          },
          "metadata": {},
          "execution_count": 9
        }
      ]
    },
    {
      "cell_type": "code",
      "source": [
        "x.to(torch.float32)"
      ],
      "metadata": {
        "colab": {
          "base_uri": "https://localhost:8080/"
        },
        "id": "N6enkMD7IQ4N",
        "outputId": "113db270-add1-439d-d9a1-1c0e4c928a68"
      },
      "execution_count": null,
      "outputs": [
        {
          "output_type": "execute_result",
          "data": {
            "text/plain": [
              "tensor([[1., 2., 3.],\n",
              "        [4., 5., 6.]])"
            ]
          },
          "metadata": {},
          "execution_count": 12
        }
      ]
    },
    {
      "cell_type": "code",
      "source": [
        "torch.rand_like(x,dtype= torch.float32) #fixing the issue of rand_like()"
      ],
      "metadata": {
        "colab": {
          "base_uri": "https://localhost:8080/"
        },
        "id": "vqEe0uRKIk4-",
        "outputId": "362ff633-4f49-4088-9e8a-dc3f537105f0"
      },
      "execution_count": null,
      "outputs": [
        {
          "output_type": "execute_result",
          "data": {
            "text/plain": [
              "tensor([[0.0047, 0.5807, 0.5516],\n",
              "        [0.1511, 0.5054, 0.3276]])"
            ]
          },
          "metadata": {},
          "execution_count": 13
        }
      ]
    },
    {
      "cell_type": "markdown",
      "source": [
        "# **Mathematical Operation**"
      ],
      "metadata": {
        "id": "Au8jGSkTJQqA"
      }
    },
    {
      "cell_type": "code",
      "source": [
        "tsr = torch.rand(3,3)\n",
        "val = 2\n",
        "print(tsr + val)\n",
        "print(tsr - val)\n",
        "print(tsr * val)\n",
        "print(tsr / val)"
      ],
      "metadata": {
        "colab": {
          "base_uri": "https://localhost:8080/"
        },
        "id": "BppM27ivJIxY",
        "outputId": "ab7c0c0d-d7dc-4742-daac-4fa3030bd0dd"
      },
      "execution_count": null,
      "outputs": [
        {
          "output_type": "stream",
          "name": "stdout",
          "text": [
            "tensor([[2.6981, 2.5052, 2.8755],\n",
            "        [2.9573, 2.4254, 2.4930],\n",
            "        [2.0396, 2.0162, 2.8851]])\n",
            "tensor([[-1.3019, -1.4948, -1.1245],\n",
            "        [-1.0427, -1.5746, -1.5070],\n",
            "        [-1.9604, -1.9838, -1.1149]])\n",
            "tensor([[1.3962, 1.0103, 1.7510],\n",
            "        [1.9145, 0.8508, 0.9860],\n",
            "        [0.0792, 0.0325, 1.7703]])\n",
            "tensor([[0.3490, 0.2526, 0.4378],\n",
            "        [0.4786, 0.2127, 0.2465],\n",
            "        [0.0198, 0.0081, 0.4426]])\n"
          ]
        }
      ]
    },
    {
      "cell_type": "code",
      "source": [],
      "metadata": {
        "colab": {
          "base_uri": "https://localhost:8080/"
        },
        "id": "PI7ONwELJ7nB",
        "outputId": "382ae705-cd8e-4cf2-ca7e-5f6ee7fedbd3"
      },
      "execution_count": null,
      "outputs": [
        {
          "output_type": "stream",
          "name": "stdout",
          "text": [
            "tensor([[0.3061, 0.3083],\n",
            "        [0.7605, 0.7904]])\n",
            "tensor([[0.4321, 0.9726],\n",
            "        [0.1641, 0.1379]])\n"
          ]
        },
        {
          "output_type": "execute_result",
          "data": {
            "text/plain": [
              "tensor([[0.1322, 0.2999],\n",
              "        [0.1248, 0.1090]])"
            ]
          },
          "metadata": {},
          "execution_count": 6
        }
      ]
    },
    {
      "cell_type": "code",
      "source": [
        "r = torch.randint(size=(3,3),low=1,high=20,dtype=torch.float32)\n",
        "print(r)\n",
        "\n",
        "torch.sum(r)\n",
        "print(torch.sum(r,0),'\\n') #column sum\n",
        "print(torch.sum(r,1),'\\n') #row sum\n",
        "\n",
        "print(torch.mean(r),'\\n') #mean does not work for int data type\n",
        "print(torch.mean(r,0),'\\n') #column mean\n",
        "print(torch.mean(r,1),'\\n') #row mean\n",
        "\n",
        "print(torch.median(r),'\\n') #median does not work for int data type\n",
        "print(torch.median(r,0),'\\n') #column median\n",
        "print(torch.median(r,1),'\\n') #row median\n",
        "\n",
        "print(torch.prod(r),'\\n\\t')\n",
        "print(torch.std(r),'\\n')\n",
        "print(torch.var(r),'\\n')\n",
        "\n",
        "print(torch.argmin(r),'\\n')#tells the position of minimun elements in a tensor\n",
        "print(torch.argmax(r),'\\n')#tells the position of maximun elements in a tensor"
      ],
      "metadata": {
        "colab": {
          "base_uri": "https://localhost:8080/"
        },
        "id": "0cfqc2ocUKSF",
        "outputId": "cff56e32-2744-467b-f6d8-9981781f7c07"
      },
      "execution_count": null,
      "outputs": [
        {
          "output_type": "stream",
          "name": "stdout",
          "text": [
            "tensor([[14., 15.,  8.],\n",
            "        [ 7.,  5.,  9.],\n",
            "        [ 2., 14., 19.]])\n",
            "tensor([23., 34., 36.]) \n",
            "\n",
            "tensor([37., 21., 35.]) \n",
            "\n",
            "tensor(10.3333) \n",
            "\n",
            "tensor([ 7.6667, 11.3333, 12.0000]) \n",
            "\n",
            "tensor([12.3333,  7.0000, 11.6667]) \n",
            "\n",
            "tensor(9.) \n",
            "\n",
            "torch.return_types.median(\n",
            "values=tensor([ 7., 14.,  9.]),\n",
            "indices=tensor([1, 2, 1])) \n",
            "\n",
            "torch.return_types.median(\n",
            "values=tensor([14.,  7., 14.]),\n",
            "indices=tensor([0, 0, 1])) \n",
            "\n",
            "tensor(2.8153e+08) \n",
            "\t\n",
            "tensor(5.4772) \n",
            "\n",
            "tensor(30.) \n",
            "\n",
            "tensor(6) \n",
            "\n",
            "tensor(8) \n",
            "\n"
          ]
        }
      ]
    },
    {
      "cell_type": "markdown",
      "source": [
        "# **Matrix Operations**"
      ],
      "metadata": {
        "id": "3gQOW7LNllRr"
      }
    },
    {
      "cell_type": "code",
      "source": [
        "f = torch.randint(size=(2,2),low=1,high=10,dtype=torch.float32)\n",
        "g = torch.randint(size=(2,2),low=1,high=10,dtype=torch.float32)\n",
        "\n",
        "print(f)\n",
        "print(g)\n",
        "\n",
        "#matrix multiplication\n",
        "\n",
        "torch.matmul(f,g)"
      ],
      "metadata": {
        "colab": {
          "base_uri": "https://localhost:8080/"
        },
        "id": "H1WvieDmioBo",
        "outputId": "b161181d-4aa9-489d-eb30-015131429907"
      },
      "execution_count": null,
      "outputs": [
        {
          "output_type": "stream",
          "name": "stdout",
          "text": [
            "tensor([[3., 6.],\n",
            "        [1., 6.]])\n",
            "tensor([[6., 2.],\n",
            "        [9., 9.]])\n"
          ]
        },
        {
          "output_type": "execute_result",
          "data": {
            "text/plain": [
              "tensor([[72., 60.],\n",
              "        [60., 56.]])"
            ]
          },
          "metadata": {},
          "execution_count": 3
        }
      ]
    },
    {
      "cell_type": "code",
      "source": [
        "vector1 = torch.tensor([1,2])\n",
        "vector2 = torch.tensor([3,4])\n",
        "\n",
        "torch.dot(vector1,vector2)\n"
      ],
      "metadata": {
        "colab": {
          "base_uri": "https://localhost:8080/"
        },
        "id": "ozw0lpWol8dB",
        "outputId": "1dcbb92e-e5f1-4288-db54-a91b90bc537a"
      },
      "execution_count": null,
      "outputs": [
        {
          "output_type": "execute_result",
          "data": {
            "text/plain": [
              "tensor(11)"
            ]
          },
          "metadata": {},
          "execution_count": 4
        }
      ]
    },
    {
      "cell_type": "code",
      "source": [
        "h = torch.tensor([[3,6,4],[1,6,7]])\n",
        "print(torch.transpose(h,0,1))\n",
        "j = torch.tensor([[10.,4.],[12.,7.]])\n",
        "print(torch.det(j))"
      ],
      "metadata": {
        "colab": {
          "base_uri": "https://localhost:8080/"
        },
        "id": "nro-QzfNmUyx",
        "outputId": "74db32e3-4122-410a-c24e-f43ffe7778c1"
      },
      "execution_count": null,
      "outputs": [
        {
          "output_type": "stream",
          "name": "stdout",
          "text": [
            "tensor([[3, 1],\n",
            "        [6, 6],\n",
            "        [4, 7]])\n",
            "tensor(22.0000)\n"
          ]
        }
      ]
    },
    {
      "cell_type": "markdown",
      "source": [
        "# **Trignometric Operations**"
      ],
      "metadata": {
        "id": "b_jyexy31uO5"
      }
    },
    {
      "cell_type": "code",
      "source": [
        "n = torch.randint(size=(2,3),low=1,high=10,dtype=torch.float32)\n",
        "print(n,'\\n')\n",
        "print(torch.log(n),'\\n')\n",
        "print(torch.exp(n),'\\n')\n",
        "print(torch.sin(n),'\\n')\n",
        "print(torch.cos(n),'\\n')\n",
        "print(torch.tan(n),'\\n')"
      ],
      "metadata": {
        "colab": {
          "base_uri": "https://localhost:8080/"
        },
        "id": "85PuKH22mmNh",
        "outputId": "71704000-68fc-4466-c2ed-5ce5182b3262"
      },
      "execution_count": null,
      "outputs": [
        {
          "output_type": "stream",
          "name": "stdout",
          "text": [
            "tensor([[5., 3., 4.],\n",
            "        [1., 9., 3.]]) \n",
            "\n",
            "tensor([[1.6094, 1.0986, 1.3863],\n",
            "        [0.0000, 2.1972, 1.0986]]) \n",
            "\n",
            "tensor([[1.4841e+02, 2.0086e+01, 5.4598e+01],\n",
            "        [2.7183e+00, 8.1031e+03, 2.0086e+01]]) \n",
            "\n",
            "tensor([[-0.9589,  0.1411, -0.7568],\n",
            "        [ 0.8415,  0.4121,  0.1411]]) \n",
            "\n",
            "tensor([[ 0.2837, -0.9900, -0.6536],\n",
            "        [ 0.5403, -0.9111, -0.9900]]) \n",
            "\n",
            "tensor([[-3.3805, -0.1425,  1.1578],\n",
            "        [ 1.5574, -0.4523, -0.1425]]) \n",
            "\n"
          ]
        }
      ]
    },
    {
      "cell_type": "markdown",
      "source": [
        "# **Special Operations**"
      ],
      "metadata": {
        "id": "r4AysD6uCQEB"
      }
    },
    {
      "cell_type": "code",
      "source": [
        "z = torch.randint(size=(2,3),low=1,high = 10, dtype= torch.float32)\n",
        "print(torch.sigmoid(z),'\\n') #sigmoid transforms a continuous real number into a range of (0, 1)\n",
        "\n",
        "print(torch.softmax(z,dim=0),'\\n') #softmax normalize the values of a given tensor into probabilities\n",
        "\n",
        "print(torch.relu(z),'\\n') #replaces all the negative values with 0 and all the non-negative left unchanged"
      ],
      "metadata": {
        "colab": {
          "base_uri": "https://localhost:8080/"
        },
        "id": "OT62QdV0Bgxh",
        "outputId": "edc2d9f0-b031-40eb-d700-dc52a2b13ad5"
      },
      "execution_count": null,
      "outputs": [
        {
          "output_type": "stream",
          "name": "stdout",
          "text": [
            "tensor([[0.9997, 0.9526, 0.9820],\n",
            "        [0.9999, 0.9526, 0.9820]]) \n",
            "\n",
            "tensor([[0.2689, 0.5000, 0.5000],\n",
            "        [0.7311, 0.5000, 0.5000]]) \n",
            "\n",
            "tensor([[8., 3., 4.],\n",
            "        [9., 3., 4.]]) \n",
            "\n"
          ]
        }
      ]
    },
    {
      "cell_type": "markdown",
      "source": [
        "# **Inplace Operation**\n",
        "It is used to store changes into a tensor itself without creating a new one, any operation having **\"_\"** at the end represent Inplace Op."
      ],
      "metadata": {
        "id": "Ami_pe-iE4Yc"
      }
    },
    {
      "cell_type": "code",
      "source": [
        "a = torch.randint(size=(2,3),low=1,high=10,dtype=torch.float32)\n",
        "b = torch.randint(size=(2,3),low=1,high=10,dtype=torch.float32)\n",
        "print(a)\n",
        "print(b)\n",
        "\n",
        "a.add_(b)"
      ],
      "metadata": {
        "colab": {
          "base_uri": "https://localhost:8080/"
        },
        "id": "q0PlsSvRCdH6",
        "outputId": "08cb8ca0-b646-43ef-daa6-1e00a04abdc1"
      },
      "execution_count": null,
      "outputs": [
        {
          "output_type": "stream",
          "name": "stdout",
          "text": [
            "tensor([[7., 4., 2.],\n",
            "        [2., 9., 9.]])\n",
            "tensor([[2., 5., 8.],\n",
            "        [7., 3., 7.]])\n"
          ]
        },
        {
          "output_type": "execute_result",
          "data": {
            "text/plain": [
              "tensor([[ 9.,  9., 10.],\n",
              "        [ 9., 12., 16.]])"
            ]
          },
          "metadata": {},
          "execution_count": 15
        }
      ]
    },
    {
      "cell_type": "markdown",
      "source": [
        "# **Copying a Tensor**\n",
        "This is different from basic python copying operation (assigmnet \"= \" operand) it creates a copy that isn't affected when the original is edited, it creates a new memory location rather than pointing at the same one"
      ],
      "metadata": {
        "id": "grKrqRapF13a"
      }
    },
    {
      "cell_type": "code",
      "source": [
        "c = torch.rand((2,3))\n",
        "d = torch.rand((2,3))\n",
        "\n",
        "d = c.clone()\n",
        "print(d)"
      ],
      "metadata": {
        "id": "fkENIJJHFoYk"
      },
      "execution_count": null,
      "outputs": []
    },
    {
      "cell_type": "markdown",
      "source": [
        "# **Reshaping**"
      ],
      "metadata": {
        "id": "xnrUZBDV015k"
      }
    },
    {
      "cell_type": "code",
      "source": [
        "a = torch.ones(4,4)\n",
        "a"
      ],
      "metadata": {
        "colab": {
          "base_uri": "https://localhost:8080/"
        },
        "id": "RuN1C4lF04dp",
        "outputId": "578f7a9a-1ce3-4ef9-c386-e84ea0101bdc"
      },
      "execution_count": null,
      "outputs": [
        {
          "output_type": "execute_result",
          "data": {
            "text/plain": [
              "tensor([[1., 1., 1., 1.],\n",
              "        [1., 1., 1., 1.],\n",
              "        [1., 1., 1., 1.],\n",
              "        [1., 1., 1., 1.]])"
            ]
          },
          "metadata": {},
          "execution_count": 4
        }
      ]
    },
    {
      "cell_type": "code",
      "source": [
        "a.reshape(2,2,2,2) # the product of orginal and reshaped must be same"
      ],
      "metadata": {
        "colab": {
          "base_uri": "https://localhost:8080/"
        },
        "id": "tCr_2fqh1BI1",
        "outputId": "3d5b9267-b5ef-49d5-8210-aa0f0c867230"
      },
      "execution_count": null,
      "outputs": [
        {
          "output_type": "execute_result",
          "data": {
            "text/plain": [
              "tensor([[[[1., 1.],\n",
              "          [1., 1.]],\n",
              "\n",
              "         [[1., 1.],\n",
              "          [1., 1.]]],\n",
              "\n",
              "\n",
              "        [[[1., 1.],\n",
              "          [1., 1.]],\n",
              "\n",
              "         [[1., 1.],\n",
              "          [1., 1.]]]])"
            ]
          },
          "metadata": {},
          "execution_count": 5
        }
      ]
    },
    {
      "cell_type": "code",
      "source": [
        "a.flatten()"
      ],
      "metadata": {
        "colab": {
          "base_uri": "https://localhost:8080/"
        },
        "id": "DkhGl9HU1qoE",
        "outputId": "ff303eb9-7bce-4420-9ca8-ea21b1441ed4"
      },
      "execution_count": null,
      "outputs": [
        {
          "output_type": "execute_result",
          "data": {
            "text/plain": [
              "tensor([1., 1., 1., 1., 1., 1., 1., 1., 1., 1., 1., 1., 1., 1., 1., 1.])"
            ]
          },
          "metadata": {},
          "execution_count": 6
        }
      ]
    },
    {
      "cell_type": "code",
      "source": [
        "b = torch.rand(2,3,4)\n",
        "b"
      ],
      "metadata": {
        "colab": {
          "base_uri": "https://localhost:8080/"
        },
        "id": "oB-EBGTX1x8U",
        "outputId": "c0ebfa3e-1358-4c77-f842-45cc8a4021f3"
      },
      "execution_count": null,
      "outputs": [
        {
          "output_type": "execute_result",
          "data": {
            "text/plain": [
              "tensor([[[0.6155, 0.8488, 0.2979, 0.9971],\n",
              "         [0.6866, 0.5765, 0.2186, 0.8063],\n",
              "         [0.5781, 0.5397, 0.1803, 0.2823]],\n",
              "\n",
              "        [[0.0232, 0.9431, 0.0174, 0.6644],\n",
              "         [0.8501, 0.7945, 0.1565, 0.8589],\n",
              "         [0.2212, 0.0744, 0.3737, 0.8789]]])"
            ]
          },
          "metadata": {},
          "execution_count": 7
        }
      ]
    },
    {
      "cell_type": "code",
      "source": [
        "b.permute(2,0,1).shape"
      ],
      "metadata": {
        "colab": {
          "base_uri": "https://localhost:8080/"
        },
        "id": "FGjvZcK91-4-",
        "outputId": "4338e703-191a-42d8-ce4f-da0b6d5a7f84"
      },
      "execution_count": null,
      "outputs": [
        {
          "output_type": "execute_result",
          "data": {
            "text/plain": [
              "torch.Size([4, 2, 3])"
            ]
          },
          "metadata": {},
          "execution_count": 8
        }
      ]
    },
    {
      "cell_type": "code",
      "source": [
        "b.permute(2,0,1)"
      ],
      "metadata": {
        "colab": {
          "base_uri": "https://localhost:8080/"
        },
        "id": "4UXjdqAG2Nrr",
        "outputId": "e95aa4c7-080c-4ac6-da38-0a4db2144937"
      },
      "execution_count": null,
      "outputs": [
        {
          "output_type": "execute_result",
          "data": {
            "text/plain": [
              "tensor([[[0.6155, 0.6866, 0.5781],\n",
              "         [0.0232, 0.8501, 0.2212]],\n",
              "\n",
              "        [[0.8488, 0.5765, 0.5397],\n",
              "         [0.9431, 0.7945, 0.0744]],\n",
              "\n",
              "        [[0.2979, 0.2186, 0.1803],\n",
              "         [0.0174, 0.1565, 0.3737]],\n",
              "\n",
              "        [[0.9971, 0.8063, 0.2823],\n",
              "         [0.6644, 0.8589, 0.8789]]])"
            ]
          },
          "metadata": {},
          "execution_count": 9
        }
      ]
    },
    {
      "cell_type": "code",
      "source": [
        "c = torch.rand(226,226,3)\n",
        "c.unsqueeze(0).shape #adds a new dimesion to the given index value"
      ],
      "metadata": {
        "colab": {
          "base_uri": "https://localhost:8080/"
        },
        "id": "9uUqt3e_2SMs",
        "outputId": "8fc033ba-3216-4f49-9549-555482c36b70"
      },
      "execution_count": null,
      "outputs": [
        {
          "output_type": "execute_result",
          "data": {
            "text/plain": [
              "torch.Size([1, 226, 226, 3])"
            ]
          },
          "metadata": {},
          "execution_count": 11
        }
      ]
    },
    {
      "cell_type": "code",
      "source": [
        "d = torch.rand(1,20)\n",
        "d.squeeze(0).shape #removes a dimension from a tensor's given index"
      ],
      "metadata": {
        "colab": {
          "base_uri": "https://localhost:8080/"
        },
        "id": "hMQtIYVP24I9",
        "outputId": "2d3f3ef4-7d47-4865-d6d6-be0023ff1bb0"
      },
      "execution_count": null,
      "outputs": [
        {
          "output_type": "execute_result",
          "data": {
            "text/plain": [
              "torch.Size([20])"
            ]
          },
          "metadata": {},
          "execution_count": 13
        }
      ]
    },
    {
      "cell_type": "markdown",
      "source": [
        "# **Converting NumPy Array to Tensor and Vice Versa**"
      ],
      "metadata": {
        "id": "_QR3_a9B3wXO"
      }
    },
    {
      "cell_type": "code",
      "source": [
        "import numpy as np"
      ],
      "metadata": {
        "id": "BfQO7aej3QxN"
      },
      "execution_count": null,
      "outputs": []
    },
    {
      "cell_type": "code",
      "source": [
        "g = torch.tensor([1,2,3,4])\n",
        "g"
      ],
      "metadata": {
        "colab": {
          "base_uri": "https://localhost:8080/"
        },
        "id": "Z8j5vIG83_Tb",
        "outputId": "e889a2cf-6797-4f65-bcfc-d1032c1adf61"
      },
      "execution_count": null,
      "outputs": [
        {
          "output_type": "execute_result",
          "data": {
            "text/plain": [
              "tensor([1, 2, 3, 4])"
            ]
          },
          "metadata": {},
          "execution_count": 16
        }
      ]
    },
    {
      "cell_type": "code",
      "source": [
        "h = g.numpy()\n",
        "h"
      ],
      "metadata": {
        "colab": {
          "base_uri": "https://localhost:8080/"
        },
        "id": "CbC9bzbY4Fgt",
        "outputId": "f4e4d1fc-be93-4cb5-963b-a4b5ff091c0a"
      },
      "execution_count": null,
      "outputs": [
        {
          "output_type": "execute_result",
          "data": {
            "text/plain": [
              "array([1, 2, 3, 4])"
            ]
          },
          "metadata": {},
          "execution_count": 17
        }
      ]
    },
    {
      "cell_type": "code",
      "source": [
        "i = np.array([1,2,3,4])\n",
        "i"
      ],
      "metadata": {
        "colab": {
          "base_uri": "https://localhost:8080/"
        },
        "id": "7fxOVpqG4L-F",
        "outputId": "bfaa97da-c4f2-43c3-9eae-2df2cc582ec3"
      },
      "execution_count": null,
      "outputs": [
        {
          "output_type": "execute_result",
          "data": {
            "text/plain": [
              "array([1, 2, 3, 4])"
            ]
          },
          "metadata": {},
          "execution_count": 19
        }
      ]
    },
    {
      "cell_type": "code",
      "source": [
        "k = torch.from_numpy(i)\n",
        "k"
      ],
      "metadata": {
        "colab": {
          "base_uri": "https://localhost:8080/"
        },
        "id": "naaQGa1F4Vs3",
        "outputId": "78b1244a-f6d5-4f7c-90b0-7f9edd15f231"
      },
      "execution_count": null,
      "outputs": [
        {
          "output_type": "execute_result",
          "data": {
            "text/plain": [
              "tensor([1, 2, 3, 4])"
            ]
          },
          "metadata": {},
          "execution_count": 20
        }
      ]
    },
    {
      "cell_type": "code",
      "source": [],
      "metadata": {
        "id": "KO_MKjl44Ymw"
      },
      "execution_count": null,
      "outputs": []
    }
  ]
}